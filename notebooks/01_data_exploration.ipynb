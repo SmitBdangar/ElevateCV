{
 "cells": [
  {
   "cell_type": "code",
   "execution_count": null,
   "id": "7ad10c34",
   "metadata": {},
   "outputs": [],
   "source": [
    "# Print a simple greeting to the console\n",
    "print(\"Hello, Jupyter!\")\n",
    "\n",
    "# Perform a basic arithmetic calculation\n",
    "result = (5 * 4) + 10 / 2\n",
    "print(f\"The result of (5 * 4) + (10 / 2) is: {result}\")"
   ]
  }
 ],
 "metadata": {
  "language_info": {
   "name": "python"
  }
 },
 "nbformat": 4,
 "nbformat_minor": 5
}
